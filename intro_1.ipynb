{
 "cells": [
  {
   "cell_type": "code",
   "execution_count": null,
   "metadata": {},
   "outputs": [],
   "source": [
    "# Anil Osman Tur\n",
    "# 2024-09"
   ]
  },
  {
   "cell_type": "markdown",
   "metadata": {},
   "source": [
    "## Exercise Compilation Intro to Python\n",
    "\n",
    "### Basics\n",
    "\n",
    "Let's start with some basic examples"
   ]
  },
  {
   "cell_type": "code",
   "execution_count": null,
   "metadata": {},
   "outputs": [],
   "source": [
    "# simple terminal input\n",
    "x = input('give me a number: ')\n",
    "print(x)\n",
    "print(type(x)) # what is the type of x?"
   ]
  },
  {
   "cell_type": "code",
   "execution_count": null,
   "metadata": {},
   "outputs": [],
   "source": [
    "# convert to number\n",
    "# casting or type conversions\n",
    "print(int(x) + 1)\n",
    "print(float(x) + 0.009) # what will happen?\n",
    "print(int(x) + 0.009) # what will happen?"
   ]
  },
  {
   "cell_type": "code",
   "execution_count": null,
   "metadata": {},
   "outputs": [],
   "source": [
    "# 1\n",
    "# BMI Calculator\n",
    "# Write a code snippet that takes a person's weight and height as input\n",
    "# and calculates the person's BMI. The formula is BMI = weight / height**2.\n",
    "\n",
    "# your code here"
   ]
  },
  {
   "cell_type": "code",
   "execution_count": null,
   "metadata": {},
   "outputs": [],
   "source": [
    "# 2\n",
    "# Even or Odd\n",
    "# Write a code snippet that checks if a given number is even or odd.\n",
    "\n",
    "# your code here"
   ]
  },
  {
   "cell_type": "code",
   "execution_count": null,
   "metadata": {},
   "outputs": [],
   "source": [
    "# 3\n",
    "# Grade Evaluation\n",
    "# Create a snippet that takes a student's score as input\n",
    "# and prints \"Pass\" if the score is 50 or above and \"Fail\" otherwise.\n",
    "\n",
    "# your code here"
   ]
  },
  {
   "cell_type": "code",
   "execution_count": null,
   "metadata": {},
   "outputs": [],
   "source": [
    "# 4\n",
    "# Number Comparison\n",
    "# Write a snippet that takes two numbers as input\n",
    "# and prints which one is larger. If they are equal, print \"The numbers are equal.\"\n",
    "\n",
    "# your code here"
   ]
  },
  {
   "cell_type": "code",
   "execution_count": null,
   "metadata": {},
   "outputs": [],
   "source": [
    "# 5\n",
    "# Temperature Converter\n",
    "# Create a snippet that converts temperatures from Celsius, Fahrenheit or Kelvin to\n",
    "# each other depending on a wanted type.\n",
    "# conversion formulas: C = (F - 32) * 5/9, F = C * 9/5 + 32, K = C + 273.15\n",
    "\n",
    "# your code here"
   ]
  },
  {
   "cell_type": "markdown",
   "metadata": {},
   "source": [
    "## Collections\n",
    "\n",
    "Let's remember lists, tuples and dictionaries.\n",
    "\n",
    "**List**\n",
    "\n",
    "Simple strcuture that can store multiple values, it is mutable and can be changed after creation.\n",
    "\n",
    "**Tuple**\n",
    "\n",
    "Similar to a list, but it is immutable, once created it can't be changed.\n",
    "\n",
    "**Dictionary**\n",
    "\n",
    "A dictionary is a collection which is unordered, changeable and indexed.\n",
    "They have keys and values."
   ]
  },
  {
   "cell_type": "code",
   "execution_count": 1,
   "metadata": {},
   "outputs": [
    {
     "name": "stdout",
     "output_type": "stream",
     "text": [
      "[1, 2, 3]\n",
      "1\n",
      "3\n",
      "[1, 2]\n",
      "[1, 6, 2]\n",
      "[1, 2, 6]\n",
      "[6, 2, 1]\n"
     ]
    }
   ],
   "source": [
    "# lists\n",
    "x = [1, 2, 3]\n",
    "y = ['Tomorrow', 'is', 'a', 'better', 'day']\n",
    "\n",
    "print(x) # this will print the whole list\n",
    "print(x[0]) # this will print the first element\n",
    "print(x.pop()) # this will remove the last element and return it\n",
    "print(x)\n",
    "x.insert(1, 6) # insert 6 to the index 1\n",
    "print(x)\n",
    "x.sort() # inplace sort the list\n",
    "print(x)\n",
    "x.reverse() # inplace reverse the list\n",
    "print(x)"
   ]
  },
  {
   "cell_type": "markdown",
   "metadata": {},
   "source": [
    "## Loops\n",
    "\n",
    "Let's remember the loops too\n",
    "\n",
    "**For loop**\n",
    "\n",
    "```python\n",
    "for i in range(10):\n",
    "    print(i)\n",
    "```\n",
    "\n",
    "**While loop**\n",
    "\n",
    "```python\n",
    "i = 0\n",
    "while i < 10:\n",
    "    print(i)\n",
    "    i += 1\n",
    "```"
   ]
  },
  {
   "cell_type": "code",
   "execution_count": null,
   "metadata": {},
   "outputs": [],
   "source": [
    "# 6\n",
    "# Develop a Python script that reads a string from the user and\n",
    "# prints the string in reverse order without using built-in functions\n",
    "\n",
    "# your code here"
   ]
  },
  {
   "cell_type": "code",
   "execution_count": null,
   "metadata": {},
   "outputs": [],
   "source": [
    "# 7\n",
    "# Sum of Natural Numbers\n",
    "# Write a snippet that takes a 10 positive integers as input and calculates the sum of all\n",
    "\n",
    "# solution 1: with a list"
   ]
  },
  {
   "cell_type": "code",
   "execution_count": null,
   "metadata": {},
   "outputs": [],
   "source": [
    "# solution 2: without a list\n",
    "\n",
    "# what is the difference between the two solutions?"
   ]
  },
  {
   "cell_type": "code",
   "execution_count": null,
   "metadata": {},
   "outputs": [],
   "source": [
    "# 8\n",
    "# Multiplication Table\n",
    "# Create a snippet that prints the multiplication table for a given number untill 10th.\n",
    "\n",
    "# your code here"
   ]
  },
  {
   "cell_type": "code",
   "execution_count": null,
   "metadata": {},
   "outputs": [],
   "source": [
    "# 9\n",
    "# Guessing Game\n",
    "# Implement a simple guessing game where the user has to guess a secret number\n",
    "# between 1 and 100. The snippet should keep prompting until the correct number is guessed.\n",
    "# The program print whether the guess is high or too low.\n",
    "\n",
    "# your code here"
   ]
  },
  {
   "cell_type": "code",
   "execution_count": null,
   "metadata": {},
   "outputs": [],
   "source": [
    "# 10\n",
    "# Same game but with a 6 of guess changes.\n",
    "# If the user can't guess the number in 6 tries, prompt game over :( .\n",
    "\n",
    "# your code here"
   ]
  },
  {
   "cell_type": "code",
   "execution_count": null,
   "metadata": {},
   "outputs": [],
   "source": [
    "# 11\n",
    "# Create a Python script that prints the Fibonacci series up to 10 using loops.\n",
    "# The Fibonacci series is a sequence of numbers where each number is the sum of\n",
    "# the two preceding ones, starting from 0 and 1.\n",
    "\n",
    "# your code here"
   ]
  },
  {
   "cell_type": "code",
   "execution_count": null,
   "metadata": {},
   "outputs": [],
   "source": [
    "# 12\n",
    "# Calculate the factorial of a number provided by the user using a loop.\n",
    "# The factorial of a number is the product of all integers up to that number.\n",
    "# For example, the factorial of 5 is 5*4*3*2*1 = 120.\n",
    "\n",
    "\n",
    "# your code here"
   ]
  },
  {
   "cell_type": "code",
   "execution_count": 9,
   "metadata": {},
   "outputs": [],
   "source": [
    "# 13\n",
    "# FizzBuzz\n",
    "# The FizzBuzz problem: Print numbers from 1 to N. N is given by user.\n",
    "# for multiples of 3 print \"Fizz\" instead of the number,\n",
    "# for multiples of 5 print \"Buzz\".\n",
    "# for numbers which are multiples of both three and five print \"FizzBuzz\".\n",
    "\n",
    "# your code here"
   ]
  },
  {
   "cell_type": "code",
   "execution_count": null,
   "metadata": {},
   "outputs": [],
   "source": [
    "# create a matrix of 5x5 with a list\n",
    "# print the matrix\n",
    "\n",
    "# your code here"
   ]
  },
  {
   "cell_type": "code",
   "execution_count": null,
   "metadata": {},
   "outputs": [],
   "source": [
    "# take given two strings and print all possible\n",
    "# combinations and permutations of the two letters words,\n",
    "# each taken from one of the two strings/lists.\n",
    "word1 = 'abc'\n",
    "word2 = 'def'\n",
    "\n",
    "# your code here"
   ]
  },
  {
   "cell_type": "code",
   "execution_count": null,
   "metadata": {},
   "outputs": [],
   "source": [
    "# take two given dictionaries and merge them.\n",
    "# If they have common keys, add their values together.\n",
    "dict1 = {'a': 1, 'b': 2, 'c': 3}\n",
    "dict2 = {'b': 3, 'c': 4, 'd': 5}\n",
    "\n",
    "# your code here"
   ]
  },
  {
   "cell_type": "code",
   "execution_count": null,
   "metadata": {},
   "outputs": [],
   "source": [
    "# create a dictionary to store an elements of an array of 5x5 matrix.\n",
    "# print the matrix\n",
    "# how would you access the element at the 5th row and 3rd column?\n",
    "import random\n",
    "random.seed(0)\n",
    "\n",
    "# your code here"
   ]
  },
  {
   "cell_type": "code",
   "execution_count": null,
   "metadata": {},
   "outputs": [],
   "source": [
    "# create a 10x10 matrix datat is randomly filled with 1 or 0 depeding on an alpha\n",
    "# parameter which is the probability of 1 occuring. (use random library)\n",
    "# print the matrix with * and -. 1 is * and 0 is -\n",
    "import random\n",
    "random.seed(0)\n",
    "\n",
    "# your code here"
   ]
  }
 ],
 "metadata": {
  "kernelspec": {
   "display_name": "Python 3 (ipykernel)",
   "language": "python",
   "name": "python3"
  },
  "language_info": {
   "codemirror_mode": {
    "name": "ipython",
    "version": 3
   },
   "file_extension": ".py",
   "mimetype": "text/x-python",
   "name": "python",
   "nbconvert_exporter": "python",
   "pygments_lexer": "ipython3",
   "version": "3.12.5"
  }
 },
 "nbformat": 4,
 "nbformat_minor": 4
}
