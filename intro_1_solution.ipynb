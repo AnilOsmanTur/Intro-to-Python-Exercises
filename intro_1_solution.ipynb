{
 "cells": [
  {
   "cell_type": "code",
   "execution_count": null,
   "metadata": {},
   "outputs": [],
   "source": [
    "# Anil Osman Tur\n",
    "# 2024-09"
   ]
  },
  {
   "cell_type": "markdown",
   "metadata": {},
   "source": [
    "## Exercise Compilation Intro to Python\n",
    "\n",
    "### Basics\n",
    "\n",
    "Let's start with some basic examples"
   ]
  },
  {
   "cell_type": "code",
   "execution_count": 5,
   "metadata": {},
   "outputs": [
    {
     "name": "stdout",
     "output_type": "stream",
     "text": [
      "12\n",
      "<class 'str'>\n"
     ]
    }
   ],
   "source": [
    "# simple terminal input\n",
    "x = input('give me a number: ')\n",
    "print(x)\n",
    "print(type(x)) # what is the type of x?"
   ]
  },
  {
   "cell_type": "code",
   "execution_count": 6,
   "metadata": {},
   "outputs": [
    {
     "name": "stdout",
     "output_type": "stream",
     "text": [
      "13\n",
      "12.009\n",
      "12.009\n"
     ]
    }
   ],
   "source": [
    "# convert to number\n",
    "# casting or type conversions\n",
    "print(int(x) + 1)\n",
    "print(float(x) + 0.009) # what will happen?\n",
    "print(int(x) + 0.009) # what will happen?"
   ]
  },
  {
   "cell_type": "code",
   "execution_count": 9,
   "metadata": {},
   "outputs": [
    {
     "name": "stdout",
     "output_type": "stream",
     "text": [
      "with weight:  70.0 kg and height:  1.7 m\n",
      "your BMI is:  24.221453287197235\n"
     ]
    }
   ],
   "source": [
    "# 1\n",
    "# BMI Calculator\n",
    "# Write a code snippet that takes a person's weight and height as input\n",
    "# and calculates the person's BMI. The formula is BMI = weight / height**2.\n",
    "\n",
    "weight = input('please enter your weight in kg: ')\n",
    "height = input('please enter your height in meters: ')\n",
    "weight = float(weight)\n",
    "height = float(height)\n",
    "bmi_value = weight / height**2.\n",
    "print('with weight: ', weight, 'kg and height: ', height, 'm')\n",
    "print('your BMI is: ', bmi_value)"
   ]
  },
  {
   "cell_type": "code",
   "execution_count": 10,
   "metadata": {},
   "outputs": [
    {
     "name": "stdout",
     "output_type": "stream",
     "text": [
      "odd\n"
     ]
    }
   ],
   "source": [
    "# 2\n",
    "# Even or Odd\n",
    "# Write a code snippet that checks if a given number is even or odd.\n",
    "\n",
    "number = input('please enter a number: ')\n",
    "print('you entered: ', number)\n",
    "number = int(number)\n",
    "if number % 2 == 0:\n",
    "    print('even')\n",
    "else:\n",
    "    print('odd')"
   ]
  },
  {
   "cell_type": "code",
   "execution_count": null,
   "metadata": {},
   "outputs": [],
   "source": [
    "# 3\n",
    "# Grade Evaluation\n",
    "# Create a snippet that takes a student's score as input\n",
    "# and prints \"Pass\" if the score is 50 or above and \"Fail\" otherwise.\n",
    "\n",
    "score = input('please enter your score: ')\n",
    "print('you entered: ', score)\n",
    "score = int(score)\n",
    "if score >= 50:\n",
    "    print('Pass')\n",
    "else:\n",
    "    print('Fail')"
   ]
  },
  {
   "cell_type": "code",
   "execution_count": null,
   "metadata": {},
   "outputs": [],
   "source": [
    "# 4\n",
    "# Number Comparison\n",
    "# Write a snippet that takes two numbers as input\n",
    "# and prints which one is larger. If they are equal, print \"The numbers are equal.\"\n",
    "\n",
    "number1 = input('please enter the first number: ')\n",
    "number2 = input('please enter the second number: ')\n",
    "print('you entered: ', number1, 'and', number2)\n",
    "number1 = int(number1)\n",
    "number2 = int(number2)\n",
    "\n",
    "if number1 > number2:\n",
    "    print('The first number is larger')\n",
    "elif number1 < number2:\n",
    "    print('The second number is larger')\n",
    "else:\n",
    "    print('The numbers are equal')"
   ]
  },
  {
   "cell_type": "code",
   "execution_count": null,
   "metadata": {},
   "outputs": [],
   "source": [
    "# 5\n",
    "# Temperature Converter\n",
    "# Create a snippet that converts temperatures from Celsius, Fahrenheit or Kelvin to\n",
    "# each other depending on a wanted type.\n",
    "# conversion formulas: C = (F - 32) * 5/9, F = C * 9/5 + 32, K = C + 273.15\n",
    "\n",
    "temperature = input('please enter the temperature: ')\n",
    "temp_type = input('please enter the temperature type (C, F, K): ')\n",
    "convert = input('please enter the conversion type (C, F, K): ')\n",
    "\n",
    "print('you entered: ', temperature, temp_type, 'and want to convert to: ', convert)\n",
    "\n",
    "temperature = float(temperature)\n",
    "if temp_type == 'C':\n",
    "    if convert == 'F':\n",
    "        converted = temperature * 9/5 + 32\n",
    "    elif convert == 'K':\n",
    "        converted = temperature + 273.15\n",
    "    else:\n",
    "        converted = temperature\n",
    "elif temp_type == 'F':\n",
    "    if convert == 'C':\n",
    "        converted = (temperature - 32) * 5/9\n",
    "    elif convert == 'K':\n",
    "        converted = (temperature - 32) * 5/9 + 273.15\n",
    "    else:\n",
    "        converted = temperature\n",
    "else:\n",
    "    if convert == 'C':\n",
    "        converted = temperature - 273.15\n",
    "    elif convert == 'F':\n",
    "        converted = (temperature - 273.15) * 9/5 + 32\n",
    "    else:\n",
    "        converted = temperature\n",
    "\n",
    "print('converted temperature is: ', converted, convert)"
   ]
  },
  {
   "cell_type": "markdown",
   "metadata": {},
   "source": [
    "## Collections\n",
    "\n",
    "Let's remember lists, tuples and dictionaries.\n",
    "\n",
    "**List**\n",
    "\n",
    "Simple strcuture that can store multiple values, it is mutable and can be changed after creation.\n",
    "\n",
    "**Tuple**\n",
    "\n",
    "Similar to a list, but it is immutable, once created it can't be changed.\n",
    "\n",
    "**Dictionary**\n",
    "\n",
    "A dictionary is a collection which is unordered, changeable and indexed.\n",
    "They have keys and values."
   ]
  },
  {
   "cell_type": "code",
   "execution_count": null,
   "metadata": {},
   "outputs": [],
   "source": [
    "# lists\n",
    "x = [1, 2, 3]\n",
    "y = ['Tomorrow', 'is', 'a', 'better', 'day']\n",
    "\n",
    "print(x) # this will print the whole list\n",
    "print(x[0]) # this will print the first element\n",
    "print(x.pop()) # this will remove the last element and return it\n",
    "print(x)\n",
    "x.insert(1, 6) # insert 6 to the index 1\n",
    "print(x)\n",
    "x.sort() # inplace sort the list\n",
    "print(x)\n",
    "x.reverse() # inplace reverse the list\n",
    "print(x)"
   ]
  },
  {
   "cell_type": "markdown",
   "metadata": {},
   "source": [
    "## Loops\n",
    "\n",
    "Let's remember the loops too\n",
    "\n",
    "**For loop**\n",
    "\n",
    "```python\n",
    "for i in range(10):\n",
    "    print(i)\n",
    "```\n",
    "\n",
    "**While loop**\n",
    "\n",
    "```python\n",
    "i = 0\n",
    "while i < 10:\n",
    "    print(i)\n",
    "    i += 1\n",
    "```"
   ]
  },
  {
   "cell_type": "code",
   "execution_count": 14,
   "metadata": {},
   "outputs": [
    {
     "name": "stdout",
     "output_type": "stream",
     "text": [
      "input is its ok but it could be better\n",
      "retteb eb dluoc ti tub ko sti\n",
      "retteb eb dluoc ti tub ko sti\n",
      "retteb eb dluoc ti tub ko sti\n"
     ]
    }
   ],
   "source": [
    "# 6\n",
    "# Develop a Python script that reads a string from the user and\n",
    "# prints the string in reverse order without using built-in functions\n",
    "\n",
    "user_input = input('how are you today?: ')\n",
    "print('input is', user_input)\n",
    "\n",
    "# soluution 1\n",
    "reverse = ''\n",
    "for i in range(len(user_input)-1, -1, -1):\n",
    "    reverse += user_input[i]\n",
    "print(reverse)\n",
    "\n",
    "# soluution 2\n",
    "reverse = ''\n",
    "for i in reversed(range(len(user_input))):\n",
    "    reverse += user_input[i]\n",
    "print(reverse)\n",
    "\n",
    "# with slicing operator\n",
    "print(user_input[::-1])"
   ]
  },
  {
   "cell_type": "code",
   "execution_count": 15,
   "metadata": {},
   "outputs": [
    {
     "name": "stdout",
     "output_type": "stream",
     "text": [
      "[2, 1, 3, 4, 1, 5, 3, 4, 5, 4]\n",
      "Sum is 32\n",
      "Sum is 32\n"
     ]
    }
   ],
   "source": [
    "# 7\n",
    "# Sum of Natural Numbers\n",
    "# Write a snippet that takes a 10 positive integers as input and calculates the sum of all\n",
    "\n",
    "# solution 1: with a list\n",
    "numbers = []\n",
    "for i in range(10):\n",
    "    number = input('please enter a number: ')\n",
    "    numbers.append(int(number))\n",
    "print(numbers)\n",
    "\n",
    "# one way to calculate the sum\n",
    "sum_all = 0\n",
    "for i in range(10):\n",
    "    sum_all += numbers[i]\n",
    "print('Sum is', sum_all)\n",
    "\n",
    "# with sum function\n",
    "sum_all = sum(numbers)\n",
    "print('Sum is', sum_all)\n"
   ]
  },
  {
   "cell_type": "code",
   "execution_count": 16,
   "metadata": {},
   "outputs": [
    {
     "name": "stdout",
     "output_type": "stream",
     "text": [
      "Sum is 54\n"
     ]
    }
   ],
   "source": [
    "# solution 2: without a list\n",
    "sum_all = 0\n",
    "for i in range(10):\n",
    "    number = input('please enter a number: ')\n",
    "    sum_all += int(number)\n",
    "print('Sum is', sum_all)\n",
    "\n",
    "# what is the difference between the two solutions?"
   ]
  },
  {
   "cell_type": "code",
   "execution_count": 17,
   "metadata": {},
   "outputs": [
    {
     "name": "stdout",
     "output_type": "stream",
     "text": [
      "12 x 1 = 12\n",
      "12 x 2 = 24\n",
      "12 x 3 = 36\n",
      "12 x 4 = 48\n",
      "12 x 5 = 60\n",
      "12 x 6 = 72\n",
      "12 x 7 = 84\n",
      "12 x 8 = 96\n",
      "12 x 9 = 108\n",
      "12 x 10 = 120\n"
     ]
    }
   ],
   "source": [
    "# 8\n",
    "# Multiplication Table\n",
    "# Create a snippet that prints the multiplication table for a given number untill 10th.\n",
    "number = input('please enter a number: ')\n",
    "number = int(number)\n",
    "for i in range(1, 11):\n",
    "    print(number, 'x', i, '=', number*i)\n",
    "\n"
   ]
  },
  {
   "cell_type": "code",
   "execution_count": 19,
   "metadata": {},
   "outputs": [
    {
     "name": "stdout",
     "output_type": "stream",
     "text": [
      "Too high\n",
      "Too low\n",
      "Too low\n",
      "Congratulations! You found it: 40\n"
     ]
    }
   ],
   "source": [
    "# 9\n",
    "# Guessing Game\n",
    "# Implement a simple guessing game where the user has to guess a secret number\n",
    "# between 1 and 100. The snippet should keep prompting until the correct number is guessed.\n",
    "# The program print whether the guess is high or too low.\n",
    "import random\n",
    "secret = random.randint(1, 100)\n",
    "\n",
    "guess = 0\n",
    "while guess != secret:\n",
    "    guess = int(input('I have a number in between 1 to 100.\\nCan you guess it?\\nWhat is your guess: '))\n",
    "    if guess < secret:\n",
    "        print('Too low')\n",
    "    elif guess > secret:\n",
    "        print('Too high')\n",
    "    else:\n",
    "        print('Congratulations! You found it:', secret)\n"
   ]
  },
  {
   "cell_type": "code",
   "execution_count": 20,
   "metadata": {},
   "outputs": [
    {
     "name": "stdout",
     "output_type": "stream",
     "text": [
      "Too high\n",
      "Too low\n",
      "Too low\n",
      "Too low\n",
      "Too low\n",
      "Too low\n",
      "Game over :( \n"
     ]
    }
   ],
   "source": [
    "# 10\n",
    "# Same game with but with a 6 of guess changes.\n",
    "# If the user can't guess the number in 6 tries, prompt game over :( .\n",
    "import random\n",
    "secret = random.randint(1, 100)\n",
    "\n",
    "guess = 0\n",
    "for i in range(6):\n",
    "    guess = int(input('I have a number in between 1 to 100.\\nCan you guess it?\\nWhat is your guess: '))\n",
    "    if guess < secret:\n",
    "        print('Too low')\n",
    "    elif guess > secret:\n",
    "        print('Too high')\n",
    "    else:\n",
    "        print('Congratulations! You found it:', secret)\n",
    "        break\n",
    "\n",
    "if guess != secret:\n",
    "    print('Game over :( ')"
   ]
  },
  {
   "cell_type": "code",
   "execution_count": 21,
   "metadata": {},
   "outputs": [
    {
     "name": "stdout",
     "output_type": "stream",
     "text": [
      "0 + 1 = 1\n",
      "1 + 1 = 2\n",
      "1 + 2 = 3\n",
      "2 + 3 = 5\n",
      "3 + 5 = 8\n",
      "5 + 8 = 13\n",
      "8 + 13 = 21\n",
      "13 + 21 = 34\n",
      "21 + 34 = 55\n",
      "34 + 55 = 89\n"
     ]
    }
   ],
   "source": [
    "# 11\n",
    "# Create a Python script that prints the Fibonacci series up to 10 using loops.\n",
    "# The Fibonacci series is a sequence of numbers where each number is the sum of\n",
    "# the two preceding ones, starting from 0 and 1.\n",
    "\n",
    "first = 0\n",
    "second = 1\n",
    "for _ in range(10):\n",
    "    third = first + second\n",
    "    print(first,'+', second, '=', third)\n",
    "    first = second\n",
    "    second = third"
   ]
  },
  {
   "cell_type": "code",
   "execution_count": 22,
   "metadata": {},
   "outputs": [
    {
     "name": "stdout",
     "output_type": "stream",
     "text": [
      "5 * 4 * 3 * 2 * 1 = 120\n"
     ]
    }
   ],
   "source": [
    "# 12\n",
    "# Calculate the factorial of a number provided by the user using a loop.\n",
    "# The factorial of a number is the product of all integers up to that number.\n",
    "# For example, the factorial of 5 is 5*4*3*2*1 = 120.\n",
    "number = int(input('please enter a number: '))\n",
    "\n",
    "print(number, end=' ')\n",
    "for i in reversed(range(1, number)):\n",
    "    number *= i\n",
    "    print('*', i, end=' ')\n",
    "print('=', number)"
   ]
  },
  {
   "cell_type": "code",
   "execution_count": 23,
   "metadata": {},
   "outputs": [
    {
     "name": "stdout",
     "output_type": "stream",
     "text": [
      "1\n",
      "2\n",
      "Fizz\n",
      "4\n",
      "Buzz\n",
      "Fizz\n",
      "7\n",
      "8\n",
      "Fizz\n",
      "Buzz\n",
      "11\n",
      "Fizz\n",
      "13\n",
      "14\n",
      "FizzBuzz\n",
      "16\n",
      "17\n",
      "Fizz\n",
      "19\n",
      "Buzz\n"
     ]
    }
   ],
   "source": [
    "# FizzBuzz\n",
    "# The FizzBuzz problem: Print numbers from 1 to N. N is given by user.\n",
    "# for multiples of 3 print \"Fizz\" instead of the number,\n",
    "# for multiples of 5 print \"Buzz\".\n",
    "# for numbers which are multiples of both three and five print \"FizzBuzz\".\n",
    "\n",
    "# solution 1\n",
    "number = int(input('please enter a number: '))\n",
    "\n",
    "for i in range(1, number+1):\n",
    "    if i % 3 == 0 and i % 5 == 0:\n",
    "        print('FizzBuzz')\n",
    "    elif i % 3 == 0:\n",
    "        print('Fizz')\n",
    "    elif i % 5 == 0:\n",
    "        print('Buzz')\n",
    "    else:\n",
    "        print(i)\n"
   ]
  },
  {
   "cell_type": "code",
   "execution_count": 24,
   "metadata": {},
   "outputs": [
    {
     "name": "stdout",
     "output_type": "stream",
     "text": [
      "1\n",
      "2\n",
      "Fizz\n",
      "4\n",
      "Buzz\n",
      "Fizz\n",
      "7\n",
      "8\n",
      "Fizz\n",
      "Buzz\n",
      "11\n",
      "Fizz\n",
      "13\n",
      "14\n",
      "FizzBuzz\n",
      "16\n",
      "17\n",
      "Fizz\n",
      "19\n",
      "Buzz\n"
     ]
    }
   ],
   "source": [
    "# solution 2\n",
    "number = int(input('please enter a number: '))\n",
    "\n",
    "for i in range(1, number+1):\n",
    "    output = ''\n",
    "    if i % 3 == 0:\n",
    "        output += 'Fizz'\n",
    "    if i % 5 == 0:\n",
    "        output += 'Buzz'\n",
    "    if output == '':\n",
    "        output = i\n",
    "    print(output)\n"
   ]
  },
  {
   "cell_type": "code",
   "execution_count": 25,
   "metadata": {},
   "outputs": [
    {
     "name": "stdout",
     "output_type": "stream",
     "text": [
      "[0, 1, 2, 3, 4]\n",
      "[5, 6, 7, 8, 9]\n",
      "[10, 11, 12, 13, 14]\n",
      "[15, 16, 17, 18, 19]\n",
      "[20, 21, 22, 23, 24]\n"
     ]
    }
   ],
   "source": [
    "# create a matrix of 5x5 with list\n",
    "# print the matrix\n",
    "\n",
    "matrix = []\n",
    "for i in range(5):\n",
    "    row = []\n",
    "    for j in range(5):\n",
    "        row.append(i*5+j)\n",
    "    matrix.append(row)\n",
    "\n",
    "for row in matrix:\n",
    "    print(row)\n"
   ]
  },
  {
   "cell_type": "code",
   "execution_count": 28,
   "metadata": {},
   "outputs": [
    {
     "name": "stdout",
     "output_type": "stream",
     "text": [
      "combinations\n",
      "ad\n",
      "ae\n",
      "af\n",
      "bd\n",
      "be\n",
      "bf\n",
      "cd\n",
      "ce\n",
      "cf\n",
      "permutations\n",
      "ad\n",
      "da\n",
      "ae\n",
      "ea\n",
      "af\n",
      "fa\n",
      "bd\n",
      "db\n",
      "be\n",
      "eb\n",
      "bf\n",
      "fb\n",
      "cd\n",
      "dc\n",
      "ce\n",
      "ec\n",
      "cf\n",
      "fc\n"
     ]
    }
   ],
   "source": [
    "# take given two strings and print all possible\n",
    "# combinations and permutations of the two letters words,\n",
    "# each taken from one of the two strings/lists.\n",
    "word1 = 'abc'\n",
    "word2 = 'def'\n",
    "\n",
    "# combinations\n",
    "print('combinations')\n",
    "for i in word1:\n",
    "    for j in word2:\n",
    "        print(i+j)\n",
    "\n",
    "# permutations\n",
    "print('permutations')\n",
    "for i in word1:\n",
    "    for j in word2:\n",
    "        print(i+j)\n",
    "        print(j+i)"
   ]
  },
  {
   "cell_type": "code",
   "execution_count": 29,
   "metadata": {},
   "outputs": [
    {
     "name": "stdout",
     "output_type": "stream",
     "text": [
      "{'a': 1, 'b': 5, 'c': 7, 'd': 5}\n"
     ]
    }
   ],
   "source": [
    "# take two dictionaries and merge them.\n",
    "# If they have common keys, add their values together.\n",
    "\n",
    "dict1 = {'a': 1, 'b': 2, 'c': 3}\n",
    "dict2 = {'b': 3, 'c': 4, 'd': 5}\n",
    "\n",
    "for key in dict2:\n",
    "    if key in dict1:\n",
    "        dict1[key] += dict2[key]\n",
    "    else:\n",
    "        dict1[key] = dict2[key]\n",
    "print(dict1)\n"
   ]
  },
  {
   "cell_type": "code",
   "execution_count": 30,
   "metadata": {},
   "outputs": [
    {
     "name": "stdout",
     "output_type": "stream",
     "text": [
      "0 1 2 3 4 \n",
      "1 2 3 4 5 \n",
      "2 3 4 5 6 \n",
      "3 4 5 6 7 \n",
      "4 5 6 7 8 \n"
     ]
    }
   ],
   "source": [
    "# create a dictionary to store an elements of an array of 5x5 matrix.\n",
    "# how would you access the element at the 5th row and 3rd column?\n",
    "\n",
    "matrix = {}\n",
    "for i in range(5):\n",
    "    for j in range(5):\n",
    "        matrix[(i, j)] = i+j\n",
    "\n",
    "\n",
    "for i in range(5):\n",
    "    for j in range(5):\n",
    "        print(matrix[(i, j)], end=' ')\n",
    "    print('')"
   ]
  },
  {
   "cell_type": "code",
   "execution_count": 31,
   "metadata": {},
   "outputs": [
    {
     "name": "stdout",
     "output_type": "stream",
     "text": [
      "- - - * - - - - - - \n",
      "- - * - - * - - - - \n",
      "- - - - - * - - - - \n",
      "- - * - - * - - - - \n",
      "* - - * - - * - * - \n",
      "- - * - - - * - - - \n",
      "- - - - - - - - - * \n",
      "* * - - - * - - - - \n",
      "- - - - - * - - - - \n",
      "- - - - - - - * - - \n"
     ]
    }
   ],
   "source": [
    "# create a 10x10 matrix datat is randomly filled with 1 or 0 depeding on an alpha\n",
    "# parameter which is the probability of 1 occuring. (use random library)\n",
    "# print the matrix with * and -. 1 is * and 0 is -\n",
    "\n",
    "import random\n",
    "random.seed(0)\n",
    "\n",
    "alpha = 0.3\n",
    "\n",
    "matrix = {}\n",
    "for i in range(10):\n",
    "    for j in range(10):\n",
    "        if random.random() < alpha:\n",
    "            matrix[(i, j)] = 1\n",
    "        else:\n",
    "            matrix[(i, j)] = 0\n",
    "\n",
    "\n",
    "for i in range(10):\n",
    "    for j in range(10):\n",
    "        if matrix[(i, j)] == 1:\n",
    "            print('*', end=' ')\n",
    "        else:\n",
    "            print('-', end=' ')\n",
    "    print('')\n"
   ]
  }
 ],
 "metadata": {
  "kernelspec": {
   "display_name": "Python 3 (ipykernel)",
   "language": "python",
   "name": "python3"
  },
  "language_info": {
   "codemirror_mode": {
    "name": "ipython",
    "version": 3
   },
   "file_extension": ".py",
   "mimetype": "text/x-python",
   "name": "python",
   "nbconvert_exporter": "python",
   "pygments_lexer": "ipython3",
   "version": "3.12.5"
  }
 },
 "nbformat": 4,
 "nbformat_minor": 4
}
