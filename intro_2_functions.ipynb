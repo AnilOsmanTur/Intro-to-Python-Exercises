{
 "cells": [
  {
   "cell_type": "code",
   "execution_count": 2,
   "metadata": {},
   "outputs": [],
   "source": [
    "# Anil Osman Tur\n",
    "# 2024-10"
   ]
  },
  {
   "cell_type": "markdown",
   "metadata": {},
   "source": [
    "## Exercise Compilation Intro to Python 2\n",
    "\n",
    "Before we start, **I have an improtant reminder for you**. If you have any questions about the exercises, topics or concepts untill now, please do not hesitate to reach me to **ask**. I will be happy to help you.\n",
    "\n",
    "So\n",
    "\n",
    "```python\n",
    "while True:\n",
    "    print(\"Ask questions. :)\")\n",
    "    if satisfied_with_answer:\n",
    "        break\n",
    "```\n",
    "\n",
    "----\n",
    "\n",
    "Let's pull the notebook from the repo to our local\n",
    "\n",
    "```sh\n",
    "git clone https://github.com/AnilOsmanTur/Intro-to-Python-Exercises.git\n",
    "```\n",
    "\n",
    "After cloning the repo we can just use git pull command to get the latest version of the notebook.\n",
    "\n",
    "```sh\n",
    "git pull\n",
    "```\n",
    "\n",
    "----\n",
    "\n",
    "### Functions\n",
    "\n",
    "A simple function that adds two numbers can be defined as follows:\n",
    "\n",
    "```python\n",
    "def add(a, b):\n",
    "    return a + b\n",
    "```\n",
    "\n",
    "**inline (anonymous) function**\n",
    "\n",
    "Can be defined with lambda keyword as follows:\n",
    "\n",
    "```python\n",
    "add = lambda a, b: a + b\n",
    "```\n",
    "\n",
    "**Recursive Functions**\n",
    "\n",
    "Functions that call themselves are recursive functions.\n",
    "\n",
    "```python\n",
    "def factorial(n):\n",
    "    if n == 0:\n",
    "        return 1\n",
    "    else:\n",
    "        return n * factorial(n-1)\n",
    "```\n"
   ]
  },
  {
   "cell_type": "markdown",
   "metadata": {},
   "source": [
    "**Sentiment Analyzer with Polarity Detection**\n",
    "\n",
    "**Task:**\n",
    "Create a function called sentiment_analyzer that takes a sentence and analyzes it\n",
    "by counting the number of positive and negative words based on predefined lists of\n",
    "positive and negative words.\n",
    "\n",
    "**Define two lists:**\n",
    "one for positive_words (e.g., \"happy\", \"love\", \"great\") and\n",
    "another for negative_words (e.g., \"sad\", \"hate\", \"bad\").\n",
    "The function should return a dictionary showing the count of positive and negative\n",
    "words in the sentence."
   ]
  },
  {
   "cell_type": "code",
   "execution_count": null,
   "metadata": {},
   "outputs": [],
   "source": [
    "# Solution\n",
    "\n",
    "positive_words = [\"happy\", \"love\", \"great\", \"joy\", \"wonderful\"]\n",
    "negative_words = [\"sad\", \"hate\", \"bad\", \"angry\", \"terrible\"]\n",
    "def sentiment_analyzer(sentence):\n",
    "    # Your code here\n",
    "    pass\n",
    "\n",
    "# Test the function\n",
    "print(sentiment_analyzer(\"I love programming but I hate bugs\"))\n",
    "\n",
    "# Expected output:\n",
    "# {'positive': 1, 'negative': 1}"
   ]
  },
  {
   "cell_type": "markdown",
   "metadata": {},
   "source": [
    "**Text Analyzer with Word Frequency and Function Composition**\n",
    "\n",
    "**Task:**\n",
    "Write a text analysis tool by creating multiple functions that work together.\n",
    "1. **word_count(sentence)** : Counts the total number of words in the sentence.\n",
    "\n",
    "2. **word_frequency(sentence)** : Returns a dictionary where the keys are words,\n",
    "and the values are the number of times each word appears in the sentence.\n",
    "\n",
    "3. **most_frequent_word(sentence)** : Calls the word_frequency function and\n",
    "returns the most frequent word.\n",
    "\n",
    "Finally, create a text_analyzer function that takes a sentence as input and\n",
    "uses the three functions above to print the total word count,\n",
    "the word frequency, and the most frequent word."
   ]
  },
  {
   "cell_type": "code",
   "execution_count": 6,
   "metadata": {},
   "outputs": [],
   "source": [
    "# Solution:\n",
    "\n",
    "def word_count(sentence):\n",
    "    # Your code here\n",
    "    pass\n",
    "\n",
    "def word_frequency(sentence):\n",
    "    # Your code here\n",
    "    pass\n",
    "\n",
    "def most_frequent_word(sentence):\n",
    "    # Your code here\n",
    "    pass\n",
    "\n",
    "def text_analyzer(sentence):\n",
    "    # Your code here\n",
    "    pass\n",
    "\n",
    "\n",
    "# Test the function\n",
    "text_analyzer(\"Python programming is great and learning Python is fun\")\n",
    "\n",
    "# Expected output:\n",
    "# Total word count: 9\n",
    "# Word frequency: {'Python': 2, 'programming': 1, 'is': 2, 'great': 1,\n",
    "# 'and': 1, 'learning': 1, 'fun': 1}\n",
    "# Most frequent word: Python"
   ]
  },
  {
   "cell_type": "code",
   "execution_count": 4,
   "metadata": {},
   "outputs": [
    {
     "name": "stdout",
     "output_type": "stream",
     "text": [
      "14\n"
     ]
    }
   ],
   "source": [
    "# lets make a Homeopathy function\n",
    "# This function should add water to the solution untill the solutions\n",
    "# is diluted enough to be considered a homeopathy solution.\n",
    "# it should return the number of times the solution is diluted.\n",
    "\n",
    "def homeopathy(solution, dilution=10, limit=1e-10):\n",
    "    # Your code here\n",
    "    pass\n",
    "\n",
    "# Test the function\n",
    "print(homeopathy(1000))"
   ]
  },
  {
   "cell_type": "code",
   "execution_count": null,
   "metadata": {},
   "outputs": [],
   "source": [
    "# lorem ipsum filler text to test our functions\n",
    "lorem_text = \"Lorem ipsum dolor sit amet, consectetur adipiscing elit. In eu nisl tempus, faucibus orci sollicitudin, laoreet sem. Maecenas mollis, nisi in dignissim pulvinar, magna mi egestas velit, non luctus lectus sem id mi. Praesent et urna vel ligula egestas consectetur. Nam lacinia elit nec nisi eleifend feugiat. Ut finibus, elit vitae auctor sodales, metus justo tempus dui, quis consectetur risus lorem sed nunc. In vel sapien in dui tempor condimentum. Vestibulum rutrum rhoncus lectus, vel eleifend nisl vestibulum et. Duis purus est, pulvinar in dolor nec, dapibus placerat enim. Nullam porta rhoncus mi sit amet convallis. Sed accumsan, erat sit amet consectetur dictum, lacus neque vehicula tellus, quis porttitor lacus eros et magna. Mauris vehicula nulla id libero malesuada aliquam. In hac habitasse platea dictumst. Integer convallis a dolor eu venenatis. Vestibulum vel nunc consectetur, blandit felis at, fermentum lorem.\"\n",
    "# taken from https://www.lipsum.com/\n",
    "\n",
    "small_story = \"\"\"This time, Icarus had followed his dads instructions.\n",
    "\n",
    "Hed taxied along the runway and was about to take off when his earbuds had fallen out and hed lost contact with air traffic control. His legs were almost exhausted.\n",
    "\n",
    "Then, a bit of luck. A jumbo jet had assisted his take-off, boosting him into the air. The pilot had gesticulated that Icarus should get off the nose cone but that was easier said than done, although finally, hed freed himself and plummeted to earth.\n",
    "\n",
    "Thankfully, his fall was broken by the softened wax and broken feathers.\n",
    "Back to the drawing board.\"\"\"\n",
    "# taken from https://www.fridayflashfiction.com/100-word-stories/oh-icarus-by-dawn-knox"
   ]
  },
  {
   "cell_type": "code",
   "execution_count": 8,
   "metadata": {},
   "outputs": [
    {
     "data": {
      "text/plain": [
       "True"
      ]
     },
     "execution_count": 8,
     "metadata": {},
     "output_type": "execute_result"
    }
   ],
   "source": [
    "# Create a Python program that uses a lambda function that returning false \n",
    "# if the words shorter than 4 characters otherwise true.\n",
    "\n",
    "# Your code here"
   ]
  },
  {
   "cell_type": "markdown",
   "metadata": {},
   "source": [
    "A [palindrome](https://en.wikipedia.org/wiki/Palindrome) is a word, number, phrase, or other sequence of symbols that reads the same backwards as forwards, such as madam or racecar, the date \"22/02/2022\" and the sentence: \"A man, a plan, a canal – Panama.\" -- from Wikipedia\n",
    "\n",
    "<img src=\"misc/Madam-im-adam.jpg\" width=\"400\">\n",
    "\n",
    "**Task:**\n",
    "\n",
    "Develop a function to check if a given string is a palindrome."
   ]
  },
  {
   "cell_type": "code",
   "execution_count": null,
   "metadata": {},
   "outputs": [],
   "source": [
    "# Palindrom function\n",
    "def is_palindrome(word):\n",
    "    # Your code here\n",
    "    pass"
   ]
  },
  {
   "cell_type": "code",
   "execution_count": 5,
   "metadata": {},
   "outputs": [
    {
     "name": "stdout",
     "output_type": "stream",
     "text": [
      "0 + 1 = 1\n",
      "1 + 1 = 2\n",
      "1 + 2 = 3\n",
      "2 + 3 = 5\n",
      "3 + 5 = 8\n",
      "5 + 8 = 13\n",
      "8 + 13 = 21\n",
      "13 + 21 = 34\n",
      "21 + 34 = 55\n",
      "34 + 55 = 89\n"
     ]
    }
   ],
   "source": [
    "# 11\n",
    "# Create a Python script that prints the Fibonacci series up to 10 using loops.\n",
    "# The Fibonacci series is a sequence of numbers where each number is the sum of\n",
    "# the two preceding ones, starting from 0 and 1.\n",
    "def fibonacci(n):\n",
    "    first = 0\n",
    "    second = 1\n",
    "    for _ in range(n-1):\n",
    "        third = first + second\n",
    "        print(first,'+', second, '=', third)\n",
    "        first = second\n",
    "        second = third\n",
    "\n",
    "print(fibonacci(11))"
   ]
  },
  {
   "cell_type": "code",
   "execution_count": null,
   "metadata": {},
   "outputs": [],
   "source": [
    "# this was the for loop version of the fibonacci series\n",
    "# but it can be done with recursion as well which looks more elegant\n",
    "# but there is something bad happening what do you think it is?\n",
    "\n",
    "def fibonacci(n):\n",
    "    # Your code here\n",
    "    pass\n",
    "\n",
    "print(fibonacci(11))"
   ]
  },
  {
   "cell_type": "markdown",
   "metadata": {},
   "source": [
    "[The Game of Life](https://en.wikipedia.org/wiki/Conway's_Game_of_Life)\n",
    "\n",
    "<img src=\"misc/Gospers_glider_gun.gif\" width=\"400\">\n",
    "\n",
    "We will implement a simplified version of the game of life. The game is played on a 2D grid where each cell is either dead or alive. The game proceeds in steps. In each step, a cell becomes alive or dead based on the following rules:\n",
    "\n",
    "**Rules** \n",
    "- Any live cell with fewer than two live neighbours dies, as if by underpopulation.\n",
    "- Any live cell with two or three live neighbours lives on to the next generation.\n",
    "- Any live cell with more than three live neighbours dies, as if by overpopulation.\n",
    "- Any dead cell with exactly three live neighbours becomes a live cell, as if by reproduction."
   ]
  },
  {
   "cell_type": "code",
   "execution_count": null,
   "metadata": {},
   "outputs": [
    {
     "name": "stdout",
     "output_type": "stream",
     "text": [
      "0 0 0 1 0 0 0 1 0 0 \n",
      "0 0 1 0 0 1 0 0 0 0 \n",
      "1 0 0 0 0 1 0 0 0 0 \n",
      "0 0 1 0 0 1 0 1 0 0 \n",
      "1 0 0 1 1 0 1 0 1 0 \n",
      "0 0 1 1 0 0 1 0 0 0 \n",
      "0 0 0 0 0 0 0 1 0 1 \n",
      "1 1 0 0 0 1 0 0 0 0 \n",
      "0 0 0 1 0 1 0 0 0 0 \n",
      "0 0 0 0 0 0 0 1 0 0 \n",
      "- - - * - - - * - - \n",
      "- - * - - * - - - - \n",
      "* - - - - * - - - - \n",
      "- - * - - * - * - - \n",
      "* - - * * - * - * - \n",
      "- - * * - - * - - - \n",
      "- - - - - - - * - * \n",
      "* * - - - * - - - - \n",
      "- - - * - * - - - - \n",
      "- - - - - - - * - - \n"
     ]
    }
   ],
   "source": [
    "# lets resue the previous matrix code and make a game of life\n",
    "\n",
    "import random\n",
    "random.seed(0)\n",
    "\n",
    "def create_matrix(size_n=10, alpha=0.4):\n",
    "    matrix = {}\n",
    "    for i in range(size_n):\n",
    "        for j in range(size_n):\n",
    "            if random.random() < alpha:\n",
    "                matrix[(i, j)] = 1\n",
    "            else:\n",
    "                matrix[(i, j)] = 0\n",
    "    return matrix\n",
    "\n",
    "def print_matrix(matrix, size_n=10):\n",
    "    for i in range(size_n):\n",
    "        for j in range(size_n):\n",
    "            if matrix[(i, j)] == 1:\n",
    "                print('*', end=' ')\n",
    "            else:\n",
    "                print('-', end=' ')\n",
    "        print('')\n",
    "\n",
    "def print_values(matrix, size_n=10):\n",
    "    for i in range(size_n):\n",
    "        for j in range(size_n):\n",
    "            print(matrix[(i, j)], end=' ')\n",
    "        print('')\n",
    "\n",
    "matrix = create_matrix(10, 0.4)\n",
    "print_values(matrix, 10)\n",
    "print_matrix(matrix, 10)\n"
   ]
  },
  {
   "cell_type": "code",
   "execution_count": null,
   "metadata": {},
   "outputs": [],
   "source": [
    "def dead_or_alive(matrix, i, j, size_n=10):\n",
    "    # Your code here\n",
    "    pass\n",
    "\n",
    "\n",
    "def play_game_of_life_step(matrix, size_n=10):\n",
    "    new_matrix = {}\n",
    "    for i in range(size_n):\n",
    "        for j in range(size_n):\n",
    "            new_matrix[(i, j)] = dead_or_alive(matrix, i, j, size_n)\n",
    "    return new_matrix\n",
    "\n",
    "\n",
    "print('initail state')\n",
    "matrix = create_matrix(10, 0.3)\n",
    "print_matrix(matrix, 10)\n",
    "\n",
    "for gen_id in range(1, 11):\n",
    "    print(f'Generation {gen_id}')\n",
    "    matrix = play_game_of_life_step(matrix, 10)\n",
    "    print_matrix(matrix, 10)"
   ]
  }
 ],
 "metadata": {
  "kernelspec": {
   "display_name": "Python 3 (ipykernel)",
   "language": "python",
   "name": "python3"
  },
  "language_info": {
   "codemirror_mode": {
    "name": "ipython",
    "version": 3
   },
   "file_extension": ".py",
   "mimetype": "text/x-python",
   "name": "python",
   "nbconvert_exporter": "python",
   "pygments_lexer": "ipython3",
   "version": "3.12.5"
  }
 },
 "nbformat": 4,
 "nbformat_minor": 4
}
